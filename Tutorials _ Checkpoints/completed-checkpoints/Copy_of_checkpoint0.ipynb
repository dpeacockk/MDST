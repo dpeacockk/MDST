{
  "cells": [
    {
      "cell_type": "markdown",
      "metadata": {
        "id": "0a8IYAJUshu1"
      },
      "source": [
        "# Checkpoint 0 "
      ],
      "id": "0a8IYAJUshu1"
    },
    {
      "cell_type": "markdown",
      "metadata": {
        "id": "WIu_Nmfspg9m"
      },
      "source": [
        "These exercises are a mix of Python and Pandas practice. Most should be no more than a few lines of code! "
      ],
      "id": "WIu_Nmfspg9m"
    },
    {
      "cell_type": "code",
      "execution_count": null,
      "metadata": {
        "id": "Jo6wuTgkshu1"
      },
      "outputs": [],
      "source": [
        "# here is a Python list:\n",
        "\n",
        "a = [1, 2, 3, 4, 5, 6]\n"
      ],
      "id": "Jo6wuTgkshu1"
    },
    {
      "cell_type": "code",
      "execution_count": null,
      "id": "779d96b1",
      "metadata": {
        "id": "779d96b1"
      },
      "outputs": [],
      "source": [
        "# get a list containing the last 3 elements of a\n",
        "# Yes, you can just type out [4, 5, 6] but we really want to see you demonstrate you know how to do that in Python\n",
        "b = a[-3:0]"
      ]
    },
    {
      "cell_type": "code",
      "execution_count": null,
      "id": "b6a54def",
      "metadata": {
        "id": "b6a54def"
      },
      "outputs": [],
      "source": [
        "# create a list of numbers from 1 to 100\n",
        "l = list(range(101))"
      ]
    },
    {
      "cell_type": "code",
      "execution_count": null,
      "id": "487873ac",
      "metadata": {
        "id": "487873ac"
      },
      "outputs": [],
      "source": [
        "# now get a list with only the even numbers between 1 and 100\n",
        "# you may or may not make use of the list you made in the last cell\n",
        "l_even = l[1::2]"
      ]
    },
    {
      "cell_type": "code",
      "execution_count": null,
      "id": "3d4bb5dd",
      "metadata": {
        "id": "3d4bb5dd"
      },
      "outputs": [],
      "source": [
        "# write a function that takes two numbers as arguments\n",
        "# and returns the first number divided by the second\n",
        "def foo(num1, num2):\n",
        "  return num1 / num2"
      ]
    },
    {
      "cell_type": "code",
      "execution_count": null,
      "id": "b93669fa",
      "metadata": {
        "id": "b93669fa"
      },
      "outputs": [],
      "source": [
        "# write a function that takes a string as input\n",
        "# and return that string in all caps\n",
        "def bar(str):\n",
        "  return str.upper()"
      ]
    },
    {
      "cell_type": "code",
      "execution_count": null,
      "id": "f55df04e",
      "metadata": {
        "id": "f55df04e"
      },
      "outputs": [],
      "source": [
        "# optional challenge - fizzbuzz\n",
        "# you will need to use both iteration and control flow \n",
        "# go through all numbers from 1 to 100 in order\n",
        "# if the number is a multiple of 3, print fizz\n",
        "# if the number is a multiple of 5, print buzz\n",
        "# if the number is a multiple of 3 and 5, print fizzbuzz and NOTHING ELSE\n",
        "# if the number is neither a multiple of 3 nor a multiple of 5, print the number"
      ]
    },
    {
      "cell_type": "code",
      "execution_count": 7,
      "id": "78aace0b",
      "metadata": {
        "id": "78aace0b"
      },
      "outputs": [],
      "source": [
        "# create a dictionary that reflects the following menu pricing (taken from Ahmo's)\n",
        "# Gyro: $9 \n",
        "# Burger: $9\n",
        "# Greek Salad: $8\n",
        "# Philly Steak: $10\n",
        "menu = {\"Gyro\":9, \"Burger\":9, \"Greek Salad\":8, \"Philly Steak\":10}"
      ]
    },
    {
      "cell_type": "code",
      "execution_count": 12,
      "metadata": {
        "id": "WzCQ5HOJshvA"
      },
      "outputs": [],
      "source": [
        "# load in the \"starbucks.csv\" dataset\n",
        "# refer to how we read the cereal.csv dataset in the tutorial\n",
        "import pandas as pd\n",
        "df = pd.read_csv(\"./starbucks.csv\")"
      ],
      "id": "WzCQ5HOJshvA"
    },
    {
      "cell_type": "code",
      "execution_count": 13,
      "id": "68210b5f",
      "metadata": {
        "id": "68210b5f",
        "colab": {
          "base_uri": "https://localhost:8080/"
        },
        "outputId": "215325eb-210a-4724-c2fa-0034924b8d9d"
      },
      "outputs": [
        {
          "output_type": "stream",
          "name": "stdout",
          "text": [
            "     calories  sugars  protein\n",
            "0           3       0      0.3\n",
            "40          5       0      0.4\n",
            "80        350      58     15.0\n",
            "120       140      20      6.0\n",
            "160       110      24      2.0\n",
            "200       200      41      3.0\n",
            "240       180      35      3.0\n"
          ]
        }
      ],
      "source": [
        "# output the calories, sugars, and protein columns only of every 40th row.\n",
        "print(df.loc[::40, [\"calories\", \"sugars\", \"protein\"]])"
      ]
    },
    {
      "cell_type": "code",
      "execution_count": 14,
      "id": "ac0f0c12",
      "metadata": {
        "id": "ac0f0c12"
      },
      "outputs": [],
      "source": [
        "# select all rows with more than and including 400 calories\n",
        "rows = df[df['calories'] >= 400]"
      ]
    },
    {
      "cell_type": "code",
      "execution_count": 16,
      "id": "ee8f8241",
      "metadata": {
        "id": "ee8f8241"
      },
      "outputs": [],
      "source": [
        "# select all rows whose vitamin c content is higher than the iron content\n",
        "row = df[df['vitamin c'] > df['iron']]"
      ]
    },
    {
      "cell_type": "code",
      "execution_count": 20,
      "id": "d4de48bb",
      "metadata": {
        "id": "d4de48bb"
      },
      "outputs": [],
      "source": [
        "# create a new column containing the caffeine per calories of each drink\n",
        "\n",
        "df = df.assign(caffeine_per_calories=lambda x: x.caffeine / x.calories)"
      ]
    },
    {
      "cell_type": "code",
      "execution_count": 28,
      "metadata": {
        "id": "rIoxaSxHshvB"
      },
      "outputs": [],
      "source": [
        "# what is the average calorie across all items?\n",
        "avg_calories = df['calories'].sum()\n"
      ],
      "id": "rIoxaSxHshvB"
    },
    {
      "cell_type": "code",
      "execution_count": 29,
      "metadata": {
        "id": "ABX7i49FshvD"
      },
      "outputs": [],
      "source": [
        "# how many different categories of beverages are there?\n",
        "n = len(pd.unique(df['beverage_category']))"
      ],
      "id": "ABX7i49FshvD"
    },
    {
      "cell_type": "code",
      "execution_count": 35,
      "metadata": {
        "id": "P9QatZAzshvE",
        "colab": {
          "base_uri": "https://localhost:8080/"
        },
        "outputId": "147d4382-4df5-4ca8-d33e-9dbbc75b3d3b"
      },
      "outputs": [
        {
          "output_type": "stream",
          "name": "stdout",
          "text": [
            "beverage_category\n",
            "classic espresso drinks             140.172414\n",
            "coffee                                4.250000\n",
            "frappuccino blended coffee          276.944444\n",
            "frappuccino blended crme            233.076923\n",
            "frappuccino light blended coffee    162.500000\n",
            "shaken iced beverages               114.444444\n",
            "signature espresso drinks           250.000000\n",
            "smoothies                           282.222222\n",
            "tazo tea drinks                     177.307692\n",
            "Name: calories, dtype: float64\n"
          ]
        }
      ],
      "source": [
        "# what is the average # calories for each beverage category?\n",
        "avg_calories_per_category = df.groupby('beverage_category')['calories'].mean()\n",
        "print(avg_calories_per_category )"
      ],
      "id": "P9QatZAzshvE"
    },
    {
      "cell_type": "code",
      "execution_count": 38,
      "metadata": {
        "id": "Fcnny2AXpg9v",
        "colab": {
          "base_uri": "https://localhost:8080/",
          "height": 279
        },
        "outputId": "919d808b-b852-4754-9401-a270ed8e0cb8"
      },
      "outputs": [
        {
          "output_type": "display_data",
          "data": {
            "text/plain": [
              "<Figure size 432x288 with 1 Axes>"
            ],
            "image/png": "[encoded data removed]"
          },
          "metadata": {
            "needs_background": "light"
          }
        }
      ],
      "source": [
        "# plot the distribution of the number of calories in drinks with a histogram\n",
        "import matplotlib.pyplot as plt\n",
        "plt.hist(df[['calories']].to_numpy())\n",
        "plt.xlabel('Calories')\n",
        "plt.ylabel('Number of drinks')\n",
        "plt.grid(True)\n",
        "plt.show()"
      ],
      "id": "Fcnny2AXpg9v"
    },
    {
      "cell_type": "code",
      "execution_count": 40,
      "metadata": {
        "id": "VEh1g4CKpg9v",
        "colab": {
          "base_uri": "https://localhost:8080/",
          "height": 297
        },
        "outputId": "5ba43fae-2741-4516-a33c-490bf50e256f"
      },
      "outputs": [
        {
          "output_type": "execute_result",
          "data": {
            "text/plain": [
              "Text(0, 0.5, 'Total fat')"
            ]
          },
          "metadata": {},
          "execution_count": 40
        },
        {
          "output_type": "display_data",
          "data": {
            "text/plain": [
              "<Figure size 432x288 with 1 Axes>"
            ],
            "image/png": "[encoded data removed]"
          },
          "metadata": {
            "needs_background": "light"
          }
        }
      ],
      "source": [
        "# plot calories against total fat with a scatterplot\n",
        "x = df[['calories']].to_numpy()\n",
        "y = df[['total fat']].to_numpy()\n",
        "plt.scatter(x,y)\n",
        "plt.xlabel('Calories')\n",
        "plt.ylabel('Total fat')"
      ],
      "id": "VEh1g4CKpg9v"
    }
  ],
  "metadata": {
    "kernelspec": {
      "display_name": "Python 3.9.0 64-bit",
      "language": "python",
      "name": "python3"
    },
    "language_info": {
      "codemirror_mode": {
        "name": "ipython",
        "version": 3
      },
      "file_extension": ".py",
      "mimetype": "text/x-python",
      "name": "python",
      "nbconvert_exporter": "python",
      "pygments_lexer": "ipython3",
      "version": "3.9.0"
    },
    "vscode": {
      "interpreter": {
        "hash": "6cf8df3ff69f85f626faf55c10df6fe2cb9d1236b4dc73844ee4dc01369c2c99"
      }
    },
    "colab": {
      "provenance": [],
      "collapsed_sections": []
    }
  },
  "nbformat": 4,
  "nbformat_minor": 5
}